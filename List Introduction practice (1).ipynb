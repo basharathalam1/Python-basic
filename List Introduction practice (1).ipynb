{
 "cells": [
  {
   "cell_type": "code",
   "execution_count": 1,
   "id": "5b520a3a-4a76-479c-bd2e-e052cca1a0bf",
   "metadata": {},
   "outputs": [
    {
     "name": "stdout",
     "output_type": "stream",
     "text": [
      "Hello World\n"
     ]
    }
   ],
   "source": [
    "print('Hello World')"
   ]
  },
  {
   "cell_type": "code",
   "execution_count": 9,
   "id": "79cdf305-9a47-4262-8afe-8bbb20d55aea",
   "metadata": {},
   "outputs": [],
   "source": [
    "va = 44, 56"
   ]
  },
  {
   "cell_type": "code",
   "execution_count": 11,
   "id": "415e8c4a-d0f3-4613-9b99-003ba278164d",
   "metadata": {},
   "outputs": [
    {
     "data": {
      "text/plain": [
       "(44, 56)"
      ]
     },
     "execution_count": 11,
     "metadata": {},
     "output_type": "execute_result"
    }
   ],
   "source": [
    "va"
   ]
  },
  {
   "cell_type": "code",
   "execution_count": 13,
   "id": "5d07f504-8c9a-4365-ad24-96a709cd8e0a",
   "metadata": {},
   "outputs": [
    {
     "data": {
      "text/plain": [
       "'3.12.7 | packaged by Anaconda, Inc. | (main, Oct  4 2024, 13:17:27) [MSC v.1929 64 bit (AMD64)]'"
      ]
     },
     "execution_count": 13,
     "metadata": {},
     "output_type": "execute_result"
    }
   ],
   "source": [
    "import sys\n",
    "sys.version"
   ]
  },
  {
   "cell_type": "code",
   "execution_count": 15,
   "id": "dcab7187-7247-456c-b517-f6a046f6b825",
   "metadata": {},
   "outputs": [
    {
     "ename": "NameError",
     "evalue": "name 'NIT' is not defined",
     "output_type": "error",
     "traceback": [
      "\u001b[1;31m---------------------------------------------------------------------------\u001b[0m",
      "\u001b[1;31mNameError\u001b[0m                                 Traceback (most recent call last)",
      "Cell \u001b[1;32mIn[15], line 2\u001b[0m\n\u001b[0;32m      1\u001b[0m nit \u001b[38;5;241m=\u001b[39m \u001b[38;5;241m21\u001b[39m\n\u001b[1;32m----> 2\u001b[0m NIT\n",
      "\u001b[1;31mNameError\u001b[0m: name 'NIT' is not defined"
     ]
    }
   ],
   "source": [
    "nit = 21\n",
    "NIT"
   ]
  },
  {
   "cell_type": "code",
   "execution_count": 17,
   "id": "a6adce5b-f967-40ef-897c-06eb5f2361f3",
   "metadata": {},
   "outputs": [
    {
     "data": {
      "text/plain": [
       "21"
      ]
     },
     "execution_count": 17,
     "metadata": {},
     "output_type": "execute_result"
    }
   ],
   "source": [
    "nit"
   ]
  },
  {
   "cell_type": "code",
   "execution_count": 21,
   "id": "537c4a7a-e490-4be2-9989-26faa7f38e8d",
   "metadata": {},
   "outputs": [],
   "source": [
    "a1 = 67"
   ]
  },
  {
   "cell_type": "code",
   "execution_count": 23,
   "id": "18680a2a-5ece-4898-aaae-454960cd052e",
   "metadata": {},
   "outputs": [
    {
     "data": {
      "text/plain": [
       "67"
      ]
     },
     "execution_count": 23,
     "metadata": {},
     "output_type": "execute_result"
    }
   ],
   "source": [
    "a1"
   ]
  },
  {
   "cell_type": "code",
   "execution_count": 25,
   "id": "9f4f5419-9334-453b-8ea2-ecab2b4d4ffa",
   "metadata": {},
   "outputs": [
    {
     "ename": "SyntaxError",
     "evalue": "invalid syntax (882423719.py, line 1)",
     "output_type": "error",
     "traceback": [
      "\u001b[1;36m  Cell \u001b[1;32mIn[25], line 1\u001b[1;36m\u001b[0m\n\u001b[1;33m    1@ = 89\u001b[0m\n\u001b[1;37m       ^\u001b[0m\n\u001b[1;31mSyntaxError\u001b[0m\u001b[1;31m:\u001b[0m invalid syntax\n"
     ]
    }
   ],
   "source": [
    "1@ = 89"
   ]
  },
  {
   "cell_type": "code",
   "execution_count": 27,
   "id": "2eb2a7db-eec3-4070-80a5-c65982172ab6",
   "metadata": {},
   "outputs": [
    {
     "ename": "SyntaxError",
     "evalue": "invalid syntax (480117770.py, line 1)",
     "output_type": "error",
     "traceback": [
      "\u001b[1;36m  Cell \u001b[1;32mIn[27], line 1\u001b[1;36m\u001b[0m\n\u001b[1;33m    pri$ = 67\u001b[0m\n\u001b[1;37m       ^\u001b[0m\n\u001b[1;31mSyntaxError\u001b[0m\u001b[1;31m:\u001b[0m invalid syntax\n"
     ]
    }
   ],
   "source": [
    "pri$ = 67"
   ]
  },
  {
   "cell_type": "code",
   "execution_count": 29,
   "id": "beabcada-79a7-42c3-8b2e-947804837644",
   "metadata": {},
   "outputs": [
    {
     "ename": "ValueError",
     "evalue": "too many values to unpack (expected 4)",
     "output_type": "error",
     "traceback": [
      "\u001b[1;31m---------------------------------------------------------------------------\u001b[0m",
      "\u001b[1;31mValueError\u001b[0m                                Traceback (most recent call last)",
      "Cell \u001b[1;32mIn[29], line 1\u001b[0m\n\u001b[1;32m----> 1\u001b[0m x_train, y_train, x_test, y_test \u001b[38;5;241m=\u001b[39m \u001b[38;5;241m20\u001b[39m, \u001b[38;5;241m50\u001b[39m,\u001b[38;5;241m21\u001b[39m, \u001b[38;5;241m56\u001b[39m, \u001b[38;5;241m75\u001b[39m\n",
      "\u001b[1;31mValueError\u001b[0m: too many values to unpack (expected 4)"
     ]
    }
   ],
   "source": [
    "x_train, y_train, x_test, y_test = 20, 50,21, 56, 75\n"
   ]
  },
  {
   "cell_type": "code",
   "execution_count": 31,
   "id": "d9d67379-5bf3-4d6e-8601-e54b31171019",
   "metadata": {},
   "outputs": [
    {
     "name": "stdout",
     "output_type": "stream",
     "text": [
      "20\n",
      "50\n",
      "21\n",
      "75\n"
     ]
    }
   ],
   "source": [
    "x_train, y_train, x_test, y_test = 20, 50, 21, 75\n",
    "print(x_train)\n",
    "print(y_train)\n",
    "print(x_test)\n",
    "print(y_test)\n"
   ]
  },
  {
   "cell_type": "code",
   "execution_count": 33,
   "id": "b59553f7-3b3c-43bf-b320-7b4e7df66783",
   "metadata": {},
   "outputs": [
    {
     "data": {
      "text/plain": [
       "['False',\n",
       " 'None',\n",
       " 'True',\n",
       " 'and',\n",
       " 'as',\n",
       " 'assert',\n",
       " 'async',\n",
       " 'await',\n",
       " 'break',\n",
       " 'class',\n",
       " 'continue',\n",
       " 'def',\n",
       " 'del',\n",
       " 'elif',\n",
       " 'else',\n",
       " 'except',\n",
       " 'finally',\n",
       " 'for',\n",
       " 'from',\n",
       " 'global',\n",
       " 'if',\n",
       " 'import',\n",
       " 'in',\n",
       " 'is',\n",
       " 'lambda',\n",
       " 'nonlocal',\n",
       " 'not',\n",
       " 'or',\n",
       " 'pass',\n",
       " 'raise',\n",
       " 'return',\n",
       " 'try',\n",
       " 'while',\n",
       " 'with',\n",
       " 'yield']"
      ]
     },
     "execution_count": 33,
     "metadata": {},
     "output_type": "execute_result"
    }
   ],
   "source": [
    "import keyword\n",
    "keyword.kwlist"
   ]
  },
  {
   "cell_type": "code",
   "execution_count": 35,
   "id": "3120c53c-416b-4725-a682-b0a22c217353",
   "metadata": {},
   "outputs": [
    {
     "data": {
      "text/plain": [
       "35"
      ]
     },
     "execution_count": 35,
     "metadata": {},
     "output_type": "execute_result"
    }
   ],
   "source": [
    "len(keyword.kwlist)"
   ]
  },
  {
   "cell_type": "code",
   "execution_count": 37,
   "id": "cd56c11e-c5ae-432d-9818-4133ff9b1c01",
   "metadata": {},
   "outputs": [
    {
     "name": "stdout",
     "output_type": "stream",
     "text": [
      "80\n"
     ]
    }
   ],
   "source": [
    "eLSE = 80\n",
    "print(eLSE)"
   ]
  },
  {
   "cell_type": "code",
   "execution_count": 39,
   "id": "72116d5d-79f2-4328-96b8-fb618b1d75a5",
   "metadata": {},
   "outputs": [
    {
     "name": "stdout",
     "output_type": "stream",
     "text": [
      "3\n"
     ]
    }
   ],
   "source": [
    "i = 3\n",
    "print(i)"
   ]
  },
  {
   "cell_type": "code",
   "execution_count": 41,
   "id": "0e7fbdcb-ba9c-48d1-8c91-dbb46ef34539",
   "metadata": {},
   "outputs": [
    {
     "data": {
      "text/plain": [
       "int"
      ]
     },
     "execution_count": 41,
     "metadata": {},
     "output_type": "execute_result"
    }
   ],
   "source": [
    "type(i)"
   ]
  },
  {
   "cell_type": "code",
   "execution_count": 43,
   "id": "1c620351-be62-42fa-9e04-d1cda12f4d0b",
   "metadata": {},
   "outputs": [
    {
     "ename": "SyntaxError",
     "evalue": "invalid decimal literal (2806668327.py, line 1)",
     "output_type": "error",
     "traceback": [
      "\u001b[1;36m  Cell \u001b[1;32mIn[43], line 1\u001b[1;36m\u001b[0m\n\u001b[1;33m    1i = 3\u001b[0m\n\u001b[1;37m    ^\u001b[0m\n\u001b[1;31mSyntaxError\u001b[0m\u001b[1;31m:\u001b[0m invalid decimal literal\n"
     ]
    }
   ],
   "source": [
    "1i = 3\n"
   ]
  },
  {
   "cell_type": "code",
   "execution_count": 47,
   "id": "e07c68f1-dca7-4338-bd25-4b7419c66022",
   "metadata": {},
   "outputs": [
    {
     "data": {
      "text/plain": [
       "3"
      ]
     },
     "execution_count": 47,
     "metadata": {},
     "output_type": "execute_result"
    }
   ],
   "source": [
    "i1 = 3\n",
    "i1"
   ]
  },
  {
   "cell_type": "markdown",
   "id": "d61531c7-4999-4873-bbe9-8b546e03ec37",
   "metadata": {},
   "source": [
    "#Float"
   ]
  },
  {
   "cell_type": "code",
   "execution_count": 51,
   "id": "de81b066-ca5d-4f71-8740-f125498a1402",
   "metadata": {},
   "outputs": [],
   "source": [
    "f = 110.5\n"
   ]
  },
  {
   "cell_type": "code",
   "execution_count": 53,
   "id": "8a5a7a22-779b-436d-a1b0-24e96f83d9ee",
   "metadata": {},
   "outputs": [
    {
     "data": {
      "text/plain": [
       "float"
      ]
     },
     "execution_count": 53,
     "metadata": {},
     "output_type": "execute_result"
    }
   ],
   "source": [
    "type(f)"
   ]
  },
  {
   "cell_type": "code",
   "execution_count": 55,
   "id": "a1451689-9f23-4dd3-8cee-45f6329def17",
   "metadata": {},
   "outputs": [],
   "source": [
    "f1 = 1e0\n",
    "f2 = 2e1\n",
    "f3 = 3e2"
   ]
  },
  {
   "cell_type": "code",
   "execution_count": 57,
   "id": "5fc9b57a-e617-4aef-adda-d204ae187716",
   "metadata": {},
   "outputs": [
    {
     "name": "stdout",
     "output_type": "stream",
     "text": [
      "1.0\n",
      "20.0\n",
      "300.0\n"
     ]
    }
   ],
   "source": [
    "print(f1)\n",
    "print(f2)\n",
    "print(f3)\n"
   ]
  },
  {
   "cell_type": "code",
   "execution_count": 59,
   "id": "57e535e0-f74d-4d2e-807a-66af2e7470be",
   "metadata": {},
   "outputs": [
    {
     "ename": "NameError",
     "evalue": "name 'TRUE' is not defined",
     "output_type": "error",
     "traceback": [
      "\u001b[1;31m---------------------------------------------------------------------------\u001b[0m",
      "\u001b[1;31mNameError\u001b[0m                                 Traceback (most recent call last)",
      "Cell \u001b[1;32mIn[59], line 1\u001b[0m\n\u001b[1;32m----> 1\u001b[0m b \u001b[38;5;241m=\u001b[39m TRUE\n\u001b[0;32m      2\u001b[0m \u001b[38;5;28mprint\u001b[39m(b)\n",
      "\u001b[1;31mNameError\u001b[0m: name 'TRUE' is not defined"
     ]
    }
   ],
   "source": [
    "b = TRUE\n",
    "print(b)"
   ]
  },
  {
   "cell_type": "code",
   "execution_count": 61,
   "id": "4685858d-24a7-42da-a883-38682b4f4fde",
   "metadata": {},
   "outputs": [
    {
     "ename": "NameError",
     "evalue": "name 'true' is not defined",
     "output_type": "error",
     "traceback": [
      "\u001b[1;31m---------------------------------------------------------------------------\u001b[0m",
      "\u001b[1;31mNameError\u001b[0m                                 Traceback (most recent call last)",
      "Cell \u001b[1;32mIn[61], line 1\u001b[0m\n\u001b[1;32m----> 1\u001b[0m b \u001b[38;5;241m=\u001b[39m true\n\u001b[0;32m      2\u001b[0m \u001b[38;5;28mprint\u001b[39m(b)\n",
      "\u001b[1;31mNameError\u001b[0m: name 'true' is not defined"
     ]
    }
   ],
   "source": [
    "b = true\n",
    "print(b)"
   ]
  },
  {
   "cell_type": "code",
   "execution_count": 65,
   "id": "99240733-73f7-4223-871f-aa47f5d6c51e",
   "metadata": {},
   "outputs": [
    {
     "name": "stdout",
     "output_type": "stream",
     "text": [
      "True\n"
     ]
    }
   ],
   "source": [
    "b = True\n",
    "print(b)"
   ]
  },
  {
   "cell_type": "code",
   "execution_count": 69,
   "id": "6b839fb4-9f3b-4f30-b152-d5d0024873dc",
   "metadata": {},
   "outputs": [
    {
     "ename": "NameError",
     "evalue": "name 'FALSE' is not defined",
     "output_type": "error",
     "traceback": [
      "\u001b[1;31m---------------------------------------------------------------------------\u001b[0m",
      "\u001b[1;31mNameError\u001b[0m                                 Traceback (most recent call last)",
      "Cell \u001b[1;32mIn[69], line 1\u001b[0m\n\u001b[1;32m----> 1\u001b[0m b \u001b[38;5;241m=\u001b[39m FALSE\n\u001b[0;32m      2\u001b[0m \u001b[38;5;28mprint\u001b[39m(b)\n",
      "\u001b[1;31mNameError\u001b[0m: name 'FALSE' is not defined"
     ]
    }
   ],
   "source": [
    "b = FALSE\n",
    "print(b)"
   ]
  },
  {
   "cell_type": "code",
   "execution_count": 71,
   "id": "6ac52c1e-2617-4679-a751-c7bcdc2ff200",
   "metadata": {},
   "outputs": [
    {
     "ename": "NameError",
     "evalue": "name 'false' is not defined",
     "output_type": "error",
     "traceback": [
      "\u001b[1;31m---------------------------------------------------------------------------\u001b[0m",
      "\u001b[1;31mNameError\u001b[0m                                 Traceback (most recent call last)",
      "Cell \u001b[1;32mIn[71], line 1\u001b[0m\n\u001b[1;32m----> 1\u001b[0m b \u001b[38;5;241m=\u001b[39m false\n\u001b[0;32m      2\u001b[0m \u001b[38;5;28mprint\u001b[39m(b)\n",
      "\u001b[1;31mNameError\u001b[0m: name 'false' is not defined"
     ]
    }
   ],
   "source": [
    "b = false\n",
    "print(b)"
   ]
  },
  {
   "cell_type": "code",
   "execution_count": 73,
   "id": "d2996159-2187-4c31-b26b-8a43372d89e0",
   "metadata": {},
   "outputs": [
    {
     "name": "stdout",
     "output_type": "stream",
     "text": [
      "False\n"
     ]
    }
   ],
   "source": [
    "b = False\n",
    "print(b)"
   ]
  },
  {
   "cell_type": "code",
   "execution_count": 77,
   "id": "55a05a66-d5e6-488b-ab2a-0f3ec819f671",
   "metadata": {},
   "outputs": [
    {
     "data": {
      "text/plain": [
       "bool"
      ]
     },
     "execution_count": 77,
     "metadata": {},
     "output_type": "execute_result"
    }
   ],
   "source": [
    "#print(type(b))\n",
    "type(b)"
   ]
  },
  {
   "cell_type": "code",
   "execution_count": 79,
   "id": "51abbfc3-037d-4d4d-9a93-15fdf54f7cd8",
   "metadata": {},
   "outputs": [
    {
     "data": {
      "text/plain": [
       "1"
      ]
     },
     "execution_count": 79,
     "metadata": {},
     "output_type": "execute_result"
    }
   ],
   "source": [
    "True + True + False - True"
   ]
  },
  {
   "cell_type": "code",
   "execution_count": 81,
   "id": "b6c1e706-8934-4874-a979-212f991b27f3",
   "metadata": {},
   "outputs": [
    {
     "data": {
      "text/plain": [
       "0"
      ]
     },
     "execution_count": 81,
     "metadata": {},
     "output_type": "execute_result"
    }
   ],
   "source": [
    "True * False"
   ]
  },
  {
   "cell_type": "code",
   "execution_count": 85,
   "id": "0d891ea5-f73d-46df-bc0b-19934d785b4f",
   "metadata": {},
   "outputs": [
    {
     "name": "stdout",
     "output_type": "stream",
     "text": [
      "1\n",
      "0\n",
      "1\n",
      "0\n",
      "0\n",
      "2\n"
     ]
    }
   ],
   "source": [
    "b1 = True\n",
    "b2 = False\n",
    "print(b1 + b2)\n",
    "print(b2+b2)\n",
    "print(b1-b2)\n",
    "print(b2-b2)\n",
    "print(b1-b1)\n",
    "print(b1+b1)"
   ]
  },
  {
   "cell_type": "code",
   "execution_count": 87,
   "id": "41b26e57-f12a-408a-9d01-3ee487e653c4",
   "metadata": {},
   "outputs": [],
   "source": [
    "a = 10 + 20j\n",
    "b = 10 - 10j\n",
    "c = 15 + 5j"
   ]
  },
  {
   "cell_type": "code",
   "execution_count": 89,
   "id": "b57ebba5-0abb-4d51-a21b-376575e1f866",
   "metadata": {},
   "outputs": [
    {
     "data": {
      "text/plain": [
       "30j"
      ]
     },
     "execution_count": 89,
     "metadata": {},
     "output_type": "execute_result"
    }
   ],
   "source": [
    "a - b"
   ]
  },
  {
   "cell_type": "code",
   "execution_count": 91,
   "id": "da9ba898-3506-41d5-b1e9-0d1ab0c371e1",
   "metadata": {},
   "outputs": [
    {
     "data": {
      "text/plain": [
       "(20+10j)"
      ]
     },
     "execution_count": 91,
     "metadata": {},
     "output_type": "execute_result"
    }
   ],
   "source": [
    "a + b"
   ]
  },
  {
   "cell_type": "code",
   "execution_count": 93,
   "id": "9b8e522c-4810-475f-b0fc-fe77727564fa",
   "metadata": {},
   "outputs": [
    {
     "data": {
      "text/plain": [
       "(-5-15j)"
      ]
     },
     "execution_count": 93,
     "metadata": {},
     "output_type": "execute_result"
    }
   ],
   "source": [
    "b - c"
   ]
  },
  {
   "cell_type": "code",
   "execution_count": 95,
   "id": "e5064cd7-e1dc-474b-ac23-c82226833326",
   "metadata": {},
   "outputs": [
    {
     "data": {
      "text/plain": [
       "(25-5j)"
      ]
     },
     "execution_count": 95,
     "metadata": {},
     "output_type": "execute_result"
    }
   ],
   "source": [
    "b + c"
   ]
  },
  {
   "cell_type": "code",
   "execution_count": 97,
   "id": "b7703b27-165a-4a5f-ae67-33ec4dc1057f",
   "metadata": {},
   "outputs": [
    {
     "data": {
      "text/plain": [
       "(25+25j)"
      ]
     },
     "execution_count": 97,
     "metadata": {},
     "output_type": "execute_result"
    }
   ],
   "source": [
    "a + c"
   ]
  },
  {
   "cell_type": "code",
   "execution_count": 99,
   "id": "d72f76fd-1ced-45b3-83cd-587443f36d63",
   "metadata": {},
   "outputs": [
    {
     "data": {
      "text/plain": [
       "(-5+15j)"
      ]
     },
     "execution_count": 99,
     "metadata": {},
     "output_type": "execute_result"
    }
   ],
   "source": [
    "a - c"
   ]
  },
  {
   "cell_type": "code",
   "execution_count": 101,
   "id": "1b33ff47-8aa1-48e8-ac43-c32641a1b79e",
   "metadata": {},
   "outputs": [
    {
     "data": {
      "text/plain": [
       "10.0"
      ]
     },
     "execution_count": 101,
     "metadata": {},
     "output_type": "execute_result"
    }
   ],
   "source": [
    "a.real"
   ]
  },
  {
   "cell_type": "code",
   "execution_count": 103,
   "id": "95320456-84e9-4eb9-a396-aebcada00887",
   "metadata": {},
   "outputs": [
    {
     "data": {
      "text/plain": [
       "20.0"
      ]
     },
     "execution_count": 103,
     "metadata": {},
     "output_type": "execute_result"
    }
   ],
   "source": [
    "a.imag"
   ]
  },
  {
   "cell_type": "code",
   "execution_count": null,
   "id": "7c6dabbb-2507-46fe-bf95-68676065b818",
   "metadata": {},
   "outputs": [],
   "source": [
    "#Strings"
   ]
  },
  {
   "cell_type": "code",
   "execution_count": 107,
   "id": "8bdb3fa6-63ac-4078-82bc-e6a416053a40",
   "metadata": {},
   "outputs": [],
   "source": [
    "s= 'generatiee ai & llm model great career ahead.also it is research domain.'\n",
    "s1 = \"generatiee ai & llm model great career ahead.also it is research domain.\"\n",
    "s2 = '''generatiee ai & llm model great career ahead.\n",
    "        also it is research domain.'''"
   ]
  },
  {
   "cell_type": "code",
   "execution_count": 109,
   "id": "af62b879-0426-4d0e-90c8-4695734e9889",
   "metadata": {},
   "outputs": [
    {
     "data": {
      "text/plain": [
       "'generatiee ai & llm model great career ahead.also it is research domain.'"
      ]
     },
     "execution_count": 109,
     "metadata": {},
     "output_type": "execute_result"
    }
   ],
   "source": [
    "s"
   ]
  },
  {
   "cell_type": "code",
   "execution_count": 111,
   "id": "e142dc7e-4164-406a-b3cf-bf0a8c062b03",
   "metadata": {},
   "outputs": [
    {
     "data": {
      "text/plain": [
       "'generatiee ai & llm model great career ahead.also it is research domain.'"
      ]
     },
     "execution_count": 111,
     "metadata": {},
     "output_type": "execute_result"
    }
   ],
   "source": [
    "s1"
   ]
  },
  {
   "cell_type": "code",
   "execution_count": 113,
   "id": "7915cf83-1495-4af0-8238-8106a79e5a00",
   "metadata": {},
   "outputs": [
    {
     "data": {
      "text/plain": [
       "'generatiee ai & llm model great career ahead.\\n        also it is research domain.'"
      ]
     },
     "execution_count": 113,
     "metadata": {},
     "output_type": "execute_result"
    }
   ],
   "source": [
    "s2"
   ]
  },
  {
   "cell_type": "code",
   "execution_count": null,
   "id": "fcea60f5-8ac7-4104-9f45-acf2ba3721f5",
   "metadata": {},
   "outputs": [],
   "source": [
    "Type Casting"
   ]
  },
  {
   "cell_type": "code",
   "execution_count": 115,
   "id": "d370d143-1dc8-4926-b294-3bc223444e8b",
   "metadata": {},
   "outputs": [
    {
     "data": {
      "text/plain": [
       "2"
      ]
     },
     "execution_count": 115,
     "metadata": {},
     "output_type": "execute_result"
    }
   ],
   "source": [
    "int(2.3)"
   ]
  },
  {
   "cell_type": "code",
   "execution_count": 117,
   "id": "f83321fd-0d25-4d05-bfb3-c0c4b8620be0",
   "metadata": {},
   "outputs": [
    {
     "ename": "TypeError",
     "evalue": "'float' object cannot be interpreted as an integer",
     "output_type": "error",
     "traceback": [
      "\u001b[1;31m---------------------------------------------------------------------------\u001b[0m",
      "\u001b[1;31mTypeError\u001b[0m                                 Traceback (most recent call last)",
      "Cell \u001b[1;32mIn[117], line 1\u001b[0m\n\u001b[1;32m----> 1\u001b[0m \u001b[38;5;28mint\u001b[39m(\u001b[38;5;241m2.3\u001b[39m, \u001b[38;5;241m3.7\u001b[39m)\n",
      "\u001b[1;31mTypeError\u001b[0m: 'float' object cannot be interpreted as an integer"
     ]
    }
   ],
   "source": [
    "int(2.3, 3.7)"
   ]
  },
  {
   "cell_type": "code",
   "execution_count": 119,
   "id": "b4b06c15-5741-40f7-abd0-1ed906dafcbe",
   "metadata": {},
   "outputs": [
    {
     "data": {
      "text/plain": [
       "1"
      ]
     },
     "execution_count": 119,
     "metadata": {},
     "output_type": "execute_result"
    }
   ],
   "source": [
    "int(True)"
   ]
  },
  {
   "cell_type": "code",
   "execution_count": 121,
   "id": "b9970b4f-afd1-4f99-b0fa-8e064c01cf18",
   "metadata": {},
   "outputs": [
    {
     "data": {
      "text/plain": [
       "10"
      ]
     },
     "execution_count": 121,
     "metadata": {},
     "output_type": "execute_result"
    }
   ],
   "source": [
    "int(10)"
   ]
  },
  {
   "cell_type": "code",
   "execution_count": 123,
   "id": "4fa3913d-ff9a-4009-a82c-c89f5dcca924",
   "metadata": {},
   "outputs": [
    {
     "ename": "ValueError",
     "evalue": "invalid literal for int() with base 10: 'ten'",
     "output_type": "error",
     "traceback": [
      "\u001b[1;31m---------------------------------------------------------------------------\u001b[0m",
      "\u001b[1;31mValueError\u001b[0m                                Traceback (most recent call last)",
      "Cell \u001b[1;32mIn[123], line 1\u001b[0m\n\u001b[1;32m----> 1\u001b[0m \u001b[38;5;28mint\u001b[39m(\u001b[38;5;124m'\u001b[39m\u001b[38;5;124mten\u001b[39m\u001b[38;5;124m'\u001b[39m)\n",
      "\u001b[1;31mValueError\u001b[0m: invalid literal for int() with base 10: 'ten'"
     ]
    }
   ],
   "source": [
    "int('ten')"
   ]
  },
  {
   "cell_type": "code",
   "execution_count": 125,
   "id": "d4856a0c-29ec-4d6d-b91d-5bc32605a2a3",
   "metadata": {},
   "outputs": [
    {
     "data": {
      "text/plain": [
       "10.0"
      ]
     },
     "execution_count": 125,
     "metadata": {},
     "output_type": "execute_result"
    }
   ],
   "source": [
    "float(10)"
   ]
  },
  {
   "cell_type": "code",
   "execution_count": 127,
   "id": "4680d1e0-63fa-43fe-922d-dd18804dd0f0",
   "metadata": {},
   "outputs": [
    {
     "data": {
      "text/plain": [
       "0.0"
      ]
     },
     "execution_count": 127,
     "metadata": {},
     "output_type": "execute_result"
    }
   ],
   "source": [
    "float(False)"
   ]
  },
  {
   "cell_type": "code",
   "execution_count": 129,
   "id": "55870273-720c-4ca1-b861-00763e59f909",
   "metadata": {},
   "outputs": [
    {
     "data": {
      "text/plain": [
       "20.0"
      ]
     },
     "execution_count": 129,
     "metadata": {},
     "output_type": "execute_result"
    }
   ],
   "source": [
    "float('20')"
   ]
  },
  {
   "cell_type": "code",
   "execution_count": 131,
   "id": "9cf5c565-f12c-481f-ad50-c3ad3b11fb4b",
   "metadata": {},
   "outputs": [
    {
     "ename": "ValueError",
     "evalue": "could not convert string to float: 'ten'",
     "output_type": "error",
     "traceback": [
      "\u001b[1;31m---------------------------------------------------------------------------\u001b[0m",
      "\u001b[1;31mValueError\u001b[0m                                Traceback (most recent call last)",
      "Cell \u001b[1;32mIn[131], line 1\u001b[0m\n\u001b[1;32m----> 1\u001b[0m \u001b[38;5;28mfloat\u001b[39m(\u001b[38;5;124m'\u001b[39m\u001b[38;5;124mten\u001b[39m\u001b[38;5;124m'\u001b[39m)\n",
      "\u001b[1;31mValueError\u001b[0m: could not convert string to float: 'ten'"
     ]
    }
   ],
   "source": [
    "float('ten')"
   ]
  },
  {
   "cell_type": "code",
   "execution_count": 133,
   "id": "ae808413-6d02-4d8e-8aa5-de1c6ddbe2ab",
   "metadata": {},
   "outputs": [
    {
     "ename": "TypeError",
     "evalue": "float() argument must be a string or a real number, not 'complex'",
     "output_type": "error",
     "traceback": [
      "\u001b[1;31m---------------------------------------------------------------------------\u001b[0m",
      "\u001b[1;31mTypeError\u001b[0m                                 Traceback (most recent call last)",
      "Cell \u001b[1;32mIn[133], line 1\u001b[0m\n\u001b[1;32m----> 1\u001b[0m \u001b[38;5;28mfloat\u001b[39m(\u001b[38;5;241m10\u001b[39m \u001b[38;5;241m-\u001b[39m \u001b[38;5;241m15\u001b[39mj)\n",
      "\u001b[1;31mTypeError\u001b[0m: float() argument must be a string or a real number, not 'complex'"
     ]
    }
   ],
   "source": [
    "float(10 - 15j)"
   ]
  },
  {
   "cell_type": "code",
   "execution_count": 135,
   "id": "e7bef505-4957-4862-88a8-28db9ce4df42",
   "metadata": {},
   "outputs": [
    {
     "name": "stdout",
     "output_type": "stream",
     "text": [
      "True\n",
      "True\n",
      "True\n",
      "True\n",
      "True\n",
      "False\n"
     ]
    }
   ],
   "source": [
    "print(bool(9))\n",
    "print(bool(9.9))\n",
    "print(bool('9'))\n",
    "print(bool(_))\n",
    "print(bool(10+15j))\n",
    "print(bool())"
   ]
  },
  {
   "cell_type": "code",
   "execution_count": 137,
   "id": "c7638f74-92a7-486b-8cb3-6b7bd673ff9c",
   "metadata": {},
   "outputs": [
    {
     "name": "stdout",
     "output_type": "stream",
     "text": [
      "False\n"
     ]
    }
   ],
   "source": [
    "print(bool())"
   ]
  },
  {
   "cell_type": "code",
   "execution_count": 139,
   "id": "c867d21f-2cb4-4129-8ac9-6ee401c5b5f2",
   "metadata": {},
   "outputs": [
    {
     "name": "stdout",
     "output_type": "stream",
     "text": [
      "False\n"
     ]
    }
   ],
   "source": [
    "print(bool(0))"
   ]
  },
  {
   "cell_type": "code",
   "execution_count": null,
   "id": "2a895be6-1dee-4a70-ae8d-b5d7c8fa1ab5",
   "metadata": {},
   "outputs": [],
   "source": [
    "String Type casting"
   ]
  },
  {
   "cell_type": "code",
   "execution_count": 141,
   "id": "7eed0a0f-5cd0-4520-911e-179b22bda07c",
   "metadata": {},
   "outputs": [
    {
     "data": {
      "text/plain": [
       "'2'"
      ]
     },
     "execution_count": 141,
     "metadata": {},
     "output_type": "execute_result"
    }
   ],
   "source": [
    "str(2)"
   ]
  },
  {
   "cell_type": "code",
   "execution_count": 143,
   "id": "0aa50b33-4ce2-4222-bfeb-5d4f32bd9b9e",
   "metadata": {},
   "outputs": [
    {
     "data": {
      "text/plain": [
       "'Two'"
      ]
     },
     "execution_count": 143,
     "metadata": {},
     "output_type": "execute_result"
    }
   ],
   "source": [
    "str('Two')"
   ]
  },
  {
   "cell_type": "code",
   "execution_count": 145,
   "id": "5c62652c-e8cc-43ba-bc30-ba0eae800a14",
   "metadata": {},
   "outputs": [
    {
     "data": {
      "text/plain": [
       "'True'"
      ]
     },
     "execution_count": 145,
     "metadata": {},
     "output_type": "execute_result"
    }
   ],
   "source": [
    "str(True)"
   ]
  },
  {
   "cell_type": "code",
   "execution_count": 147,
   "id": "c47c16cd-0408-4560-badc-b638abdf7ca1",
   "metadata": {},
   "outputs": [
    {
     "data": {
      "text/plain": [
       "'False'"
      ]
     },
     "execution_count": 147,
     "metadata": {},
     "output_type": "execute_result"
    }
   ],
   "source": [
    "str(False)"
   ]
  },
  {
   "cell_type": "code",
   "execution_count": 149,
   "id": "f3c3740c-e6a5-4a99-be49-86a10bcc86c9",
   "metadata": {},
   "outputs": [
    {
     "data": {
      "text/plain": [
       "'2'"
      ]
     },
     "execution_count": 149,
     "metadata": {},
     "output_type": "execute_result"
    }
   ],
   "source": [
    "str(True + True)"
   ]
  },
  {
   "cell_type": "code",
   "execution_count": 151,
   "id": "7c8ef263-6e34-4914-b57d-1fb8ba87ddd5",
   "metadata": {},
   "outputs": [
    {
     "data": {
      "text/plain": [
       "'(10+20j)'"
      ]
     },
     "execution_count": 151,
     "metadata": {},
     "output_type": "execute_result"
    }
   ],
   "source": [
    "str(10 + 20j)"
   ]
  },
  {
   "cell_type": "code",
   "execution_count": null,
   "id": "b6edb2ea-724f-49c0-aa3e-1c038086d8e6",
   "metadata": {},
   "outputs": [],
   "source": [
    "## we can  type cast from all other datatype to string \n"
   ]
  },
  {
   "cell_type": "code",
   "execution_count": 5,
   "id": "d35dc2c2-f261-4ac7-9536-e79200e1f911",
   "metadata": {},
   "outputs": [
    {
     "name": "stdout",
     "output_type": "stream",
     "text": [
      "True\n"
     ]
    }
   ],
   "source": [
    "print(len('milk') != len('meato'))"
   ]
  },
  {
   "cell_type": "code",
   "execution_count": 7,
   "id": "806ed8db-0454-4a61-95f0-7d4d548c719f",
   "metadata": {},
   "outputs": [
    {
     "name": "stdout",
     "output_type": "stream",
     "text": [
      "True\n"
     ]
    }
   ],
   "source": [
    "print(len('milk') != len('meato'))"
   ]
  },
  {
   "cell_type": "code",
   "execution_count": 9,
   "id": "0a97e034-4eac-4c4d-ac5e-cf32a47173da",
   "metadata": {},
   "outputs": [
    {
     "name": "stdout",
     "output_type": "stream",
     "text": [
      "m\n",
      "i\n",
      "l\n",
      "k\n"
     ]
    },
    {
     "ename": "IndexError",
     "evalue": "string index out of range",
     "output_type": "error",
     "traceback": [
      "\u001b[1;31m---------------------------------------------------------------------------\u001b[0m",
      "\u001b[1;31mIndexError\u001b[0m                                Traceback (most recent call last)",
      "Cell \u001b[1;32mIn[9], line 6\u001b[0m\n\u001b[0;32m      4\u001b[0m \u001b[38;5;28mprint\u001b[39m(com[\u001b[38;5;241m2\u001b[39m])\n\u001b[0;32m      5\u001b[0m \u001b[38;5;28mprint\u001b[39m(com[\u001b[38;5;241m3\u001b[39m])\n\u001b[1;32m----> 6\u001b[0m \u001b[38;5;28mprint\u001b[39m(com[\u001b[38;5;241m4\u001b[39m])\n",
      "\u001b[1;31mIndexError\u001b[0m: string index out of range"
     ]
    }
   ],
   "source": [
    "com = 'milk'\n",
    "print(com[0])\n",
    "print(com[1])\n",
    "print(com[2])\n",
    "print(com[3])\n",
    "print(com[4])"
   ]
  },
  {
   "cell_type": "code",
   "execution_count": 11,
   "id": "a7a4288e-bada-403b-8982-e574db0dd439",
   "metadata": {},
   "outputs": [
    {
     "data": {
      "text/plain": [
       "float"
      ]
     },
     "execution_count": 11,
     "metadata": {},
     "output_type": "execute_result"
    }
   ],
   "source": [
    "i = 6.6\n",
    "type(i)\n"
   ]
  },
  {
   "cell_type": "code",
   "execution_count": 13,
   "id": "3cc8e140-047b-4fab-9b5f-699c90f5d55e",
   "metadata": {},
   "outputs": [
    {
     "data": {
      "text/plain": [
       "[]"
      ]
     },
     "execution_count": 13,
     "metadata": {},
     "output_type": "execute_result"
    }
   ],
   "source": [
    "l = []\n",
    "l"
   ]
  },
  {
   "cell_type": "code",
   "execution_count": 15,
   "id": "973f5c06-3dc8-4d32-9943-9417b34895f2",
   "metadata": {},
   "outputs": [
    {
     "data": {
      "text/plain": [
       "list"
      ]
     },
     "execution_count": 15,
     "metadata": {},
     "output_type": "execute_result"
    }
   ],
   "source": [
    "type(l)"
   ]
  },
  {
   "cell_type": "code",
   "execution_count": 17,
   "id": "5859f273-64f9-4013-8e21-e4a69dbc7b4d",
   "metadata": {},
   "outputs": [
    {
     "data": {
      "text/plain": [
       "<function len(obj, /)>"
      ]
     },
     "execution_count": 17,
     "metadata": {},
     "output_type": "execute_result"
    }
   ],
   "source": [
    "len"
   ]
  },
  {
   "cell_type": "code",
   "execution_count": 19,
   "id": "bf022252-4947-49dc-9ea0-5596548fdba4",
   "metadata": {},
   "outputs": [
    {
     "data": {
      "text/plain": [
       "0"
      ]
     },
     "execution_count": 19,
     "metadata": {},
     "output_type": "execute_result"
    }
   ],
   "source": [
    "len(l)"
   ]
  },
  {
   "cell_type": "code",
   "execution_count": 66,
   "id": "75bb73df-ab4f-4d2b-a79f-de31901265fd",
   "metadata": {},
   "outputs": [],
   "source": [
    "l.append(10)"
   ]
  },
  {
   "cell_type": "code",
   "execution_count": 30,
   "id": "5c69b679-8bb4-4726-9c93-44491dbe111a",
   "metadata": {},
   "outputs": [
    {
     "data": {
      "text/plain": [
       "[10, 10, 10, 10]"
      ]
     },
     "execution_count": 30,
     "metadata": {},
     "output_type": "execute_result"
    }
   ],
   "source": [
    "l"
   ]
  },
  {
   "cell_type": "code",
   "execution_count": 32,
   "id": "d6a52372-1262-4ce0-ad11-080e0bb8186c",
   "metadata": {},
   "outputs": [
    {
     "data": {
      "text/plain": [
       "4"
      ]
     },
     "execution_count": 32,
     "metadata": {},
     "output_type": "execute_result"
    }
   ],
   "source": [
    "len(l)"
   ]
  },
  {
   "cell_type": "code",
   "execution_count": 34,
   "id": "35b2bef6-b27e-44d0-8c31-fbee1f975b89",
   "metadata": {},
   "outputs": [],
   "source": [
    "l.append(\"True\")\n",
    "l.append('1+2j')\n",
    "l.append([1,2,3])"
   ]
  },
  {
   "cell_type": "code",
   "execution_count": 38,
   "id": "bb5d8d6d-3851-464c-8bb0-b782057c30ec",
   "metadata": {},
   "outputs": [
    {
     "name": "stdout",
     "output_type": "stream",
     "text": [
      "[10, 10, 10, 10, 'True', '1+2j', [1, 2, 3]]\n"
     ]
    }
   ],
   "source": [
    "print(l)"
   ]
  },
  {
   "cell_type": "code",
   "execution_count": 44,
   "id": "240abe11-811e-4528-ba73-55792ab1bf4f",
   "metadata": {},
   "outputs": [],
   "source": [
    "l1 = []\n",
    "l1.append(10)\n",
    "l1.append(20)\n",
    "l1.append(30)\n",
    "l1.append(40)\n",
    "l1.append(10)\n",
    "l1.append(10)\n",
    "l1.append(10)"
   ]
  },
  {
   "cell_type": "code",
   "execution_count": 46,
   "id": "6f8e1178-f616-4c4e-879d-2b297ab94aa2",
   "metadata": {},
   "outputs": [
    {
     "name": "stdout",
     "output_type": "stream",
     "text": [
      "[10, 20, 30, 40, 10, 10, 10]\n"
     ]
    }
   ],
   "source": [
    "print(l1)"
   ]
  },
  {
   "cell_type": "code",
   "execution_count": 48,
   "id": "c596c19b-dc6f-4f89-bc01-d6c59e26be1c",
   "metadata": {},
   "outputs": [
    {
     "name": "stdout",
     "output_type": "stream",
     "text": [
      "2758520929280\n",
      "2758480479360\n"
     ]
    }
   ],
   "source": [
    "print(id(l))\n",
    "print(id(l1))"
   ]
  },
  {
   "cell_type": "code",
   "execution_count": 50,
   "id": "3508b9ff-2fd3-4cd4-b881-57ed06dfaac4",
   "metadata": {},
   "outputs": [
    {
     "name": "stdout",
     "output_type": "stream",
     "text": [
      "7\n",
      "7\n"
     ]
    }
   ],
   "source": [
    "print(len(l))\n",
    "print(len(l1))"
   ]
  },
  {
   "cell_type": "code",
   "execution_count": 52,
   "id": "c9b02679-e39d-4fa6-9d2b-106d9e0e23aa",
   "metadata": {},
   "outputs": [
    {
     "name": "stdout",
     "output_type": "stream",
     "text": [
      "[10, 20, 30, 40, 10, 10, 10]\n"
     ]
    }
   ],
   "source": [
    "l2 = l1.copy()\n",
    "print(l2)"
   ]
  },
  {
   "cell_type": "code",
   "execution_count": 54,
   "id": "818721fd-c79e-4b7f-900b-eaffcb0747b2",
   "metadata": {},
   "outputs": [
    {
     "data": {
      "text/plain": [
       "True"
      ]
     },
     "execution_count": 54,
     "metadata": {},
     "output_type": "execute_result"
    }
   ],
   "source": [
    "l1 == l2"
   ]
  },
  {
   "cell_type": "code",
   "execution_count": 58,
   "id": "4d7d8ac1-a73c-41ce-ae92-aef86b282149",
   "metadata": {},
   "outputs": [
    {
     "data": {
      "text/plain": [
       "True"
      ]
     },
     "execution_count": 58,
     "metadata": {},
     "output_type": "execute_result"
    }
   ],
   "source": [
    "l == l2"
   ]
  },
  {
   "cell_type": "code",
   "execution_count": 68,
   "id": "ee5e7f33-a79b-439d-8104-93db51b4811f",
   "metadata": {},
   "outputs": [
    {
     "name": "stdout",
     "output_type": "stream",
     "text": [
      "[10, 20, 30, 40, 10, 10, 10, 10, 10, 10, 10]\n"
     ]
    }
   ],
   "source": [
    "print(l)"
   ]
  },
  {
   "cell_type": "code",
   "execution_count": 70,
   "id": "43bfd9f6-a4ff-4ba6-ba61-807d6330dc82",
   "metadata": {},
   "outputs": [],
   "source": [
    "l2 = l1"
   ]
  },
  {
   "cell_type": "code",
   "execution_count": 72,
   "id": "3d18c937-7c7c-460b-95b9-52ce1955da1b",
   "metadata": {},
   "outputs": [
    {
     "name": "stdout",
     "output_type": "stream",
     "text": [
      "[10, 20, 30, 40, 10, 10, 10]\n"
     ]
    }
   ],
   "source": [
    "print(l2)"
   ]
  },
  {
   "cell_type": "code",
   "execution_count": 74,
   "id": "999eb6c4-1265-4a2a-85d5-29bc76f0b972",
   "metadata": {},
   "outputs": [
    {
     "data": {
      "text/plain": [
       "True"
      ]
     },
     "execution_count": 74,
     "metadata": {},
     "output_type": "execute_result"
    }
   ],
   "source": [
    "l != l2"
   ]
  },
  {
   "cell_type": "code",
   "execution_count": 78,
   "id": "f3f17605-8e28-4ba1-b929-0c55be4528cc",
   "metadata": {},
   "outputs": [
    {
     "name": "stdout",
     "output_type": "stream",
     "text": [
      "2758480479360\n",
      "2758480479360\n"
     ]
    },
    {
     "data": {
      "text/plain": [
       "True"
      ]
     },
     "execution_count": 78,
     "metadata": {},
     "output_type": "execute_result"
    }
   ],
   "source": [
    "print(id(l1)) == print(id(l2))"
   ]
  },
  {
   "cell_type": "code",
   "execution_count": 82,
   "id": "0788ebbe-8d07-4903-8dad-c936ee9c27d1",
   "metadata": {},
   "outputs": [],
   "source": [
    "a = 5\n",
    "b = 5"
   ]
  },
  {
   "cell_type": "code",
   "execution_count": 84,
   "id": "1a126ba4-69a8-4a67-8549-5c8f04983138",
   "metadata": {},
   "outputs": [
    {
     "name": "stdout",
     "output_type": "stream",
     "text": [
      "140714738264632\n",
      "140714738264632\n"
     ]
    },
    {
     "data": {
      "text/plain": [
       "True"
      ]
     },
     "execution_count": 84,
     "metadata": {},
     "output_type": "execute_result"
    }
   ],
   "source": [
    "print(id(a)) == print(id(b))"
   ]
  },
  {
   "cell_type": "code",
   "execution_count": 86,
   "id": "754b3cce-b994-422d-9a7b-bbd1fa920ff6",
   "metadata": {},
   "outputs": [
    {
     "ename": "ValueError",
     "evalue": "list.remove(x): x not in list",
     "output_type": "error",
     "traceback": [
      "\u001b[1;31m---------------------------------------------------------------------------\u001b[0m",
      "\u001b[1;31mValueError\u001b[0m                                Traceback (most recent call last)",
      "Cell \u001b[1;32mIn[86], line 1\u001b[0m\n\u001b[1;32m----> 1\u001b[0m l\u001b[38;5;241m.\u001b[39mremove(\u001b[38;5;241m1000\u001b[39m)\n",
      "\u001b[1;31mValueError\u001b[0m: list.remove(x): x not in list"
     ]
    }
   ],
   "source": [
    "l.remove(1000)"
   ]
  },
  {
   "cell_type": "code",
   "execution_count": 88,
   "id": "b61feee5-7a9a-4b9f-9627-4477502b0eb4",
   "metadata": {},
   "outputs": [
    {
     "name": "stdout",
     "output_type": "stream",
     "text": [
      "[10, 20, 30, 40, 10, 10, 10, 10, 10, 10, 10]\n",
      "[20, 30, 40, 10, 10, 10, 10, 10, 10, 10]\n"
     ]
    }
   ],
   "source": [
    "print(l)\n",
    "l.remove(10)\n",
    "print(l)"
   ]
  },
  {
   "cell_type": "code",
   "execution_count": 92,
   "id": "5298e4d2-e08e-439f-b91f-c9e620da260d",
   "metadata": {},
   "outputs": [
    {
     "name": "stdout",
     "output_type": "stream",
     "text": [
      "[20, 30, 40, 10, 10, 10, 10, 10, 10, 10]\n",
      "[20, 30, 40, 10, 10, 10, 10, 10, 10]\n"
     ]
    }
   ],
   "source": [
    "print(l)\n",
    "l.remove(10)\n",
    "print(l)"
   ]
  },
  {
   "cell_type": "code",
   "execution_count": 94,
   "id": "6f8685fd-5c03-4441-8617-b174eb443dfa",
   "metadata": {},
   "outputs": [
    {
     "data": {
      "text/plain": [
       "'n'"
      ]
     },
     "execution_count": 94,
     "metadata": {},
     "output_type": "execute_result"
    }
   ],
   "source": [
    "s7 = 'nareshit'\n",
    "s7[0]"
   ]
  },
  {
   "cell_type": "code",
   "execution_count": 96,
   "id": "68d236a9-ca5b-4b26-b8cd-3f91fc9a97b7",
   "metadata": {},
   "outputs": [
    {
     "data": {
      "text/plain": [
       "'a'"
      ]
     },
     "execution_count": 96,
     "metadata": {},
     "output_type": "execute_result"
    }
   ],
   "source": [
    "s7[1]"
   ]
  },
  {
   "cell_type": "code",
   "execution_count": 98,
   "id": "b2898cbf-2956-45e6-ab08-dff53e2d9806",
   "metadata": {},
   "outputs": [
    {
     "ename": "IndexError",
     "evalue": "string index out of range",
     "output_type": "error",
     "traceback": [
      "\u001b[1;31m---------------------------------------------------------------------------\u001b[0m",
      "\u001b[1;31mIndexError\u001b[0m                                Traceback (most recent call last)",
      "Cell \u001b[1;32mIn[98], line 1\u001b[0m\n\u001b[1;32m----> 1\u001b[0m s7[\u001b[38;5;241m10\u001b[39m]\n",
      "\u001b[1;31mIndexError\u001b[0m: string index out of range"
     ]
    }
   ],
   "source": [
    "s7[10]"
   ]
  },
  {
   "cell_type": "code",
   "execution_count": 100,
   "id": "4d00bda5-49a6-476f-942c-eadef0be98e2",
   "metadata": {},
   "outputs": [
    {
     "data": {
      "text/plain": [
       "'h'"
      ]
     },
     "execution_count": 100,
     "metadata": {},
     "output_type": "execute_result"
    }
   ],
   "source": [
    "s7[-3]"
   ]
  },
  {
   "cell_type": "code",
   "execution_count": 102,
   "id": "546da722-e929-4784-a97e-80f8ce789409",
   "metadata": {},
   "outputs": [
    {
     "ename": "IndexError",
     "evalue": "string index out of range",
     "output_type": "error",
     "traceback": [
      "\u001b[1;31m---------------------------------------------------------------------------\u001b[0m",
      "\u001b[1;31mIndexError\u001b[0m                                Traceback (most recent call last)",
      "Cell \u001b[1;32mIn[102], line 1\u001b[0m\n\u001b[1;32m----> 1\u001b[0m s7[\u001b[38;5;241m-\u001b[39m\u001b[38;5;241m9\u001b[39m]\n",
      "\u001b[1;31mIndexError\u001b[0m: string index out of range"
     ]
    }
   ],
   "source": [
    "s7[-9]"
   ]
  },
  {
   "cell_type": "code",
   "execution_count": 104,
   "id": "91882c7c-2eed-45e6-bcba-5d934bf0416d",
   "metadata": {},
   "outputs": [
    {
     "data": {
      "text/plain": [
       "'n'"
      ]
     },
     "execution_count": 104,
     "metadata": {},
     "output_type": "execute_result"
    }
   ],
   "source": [
    "s7[-8]"
   ]
  },
  {
   "cell_type": "code",
   "execution_count": 106,
   "id": "3708c33e-8920-432c-a425-11d83c76a4a6",
   "metadata": {},
   "outputs": [
    {
     "name": "stdout",
     "output_type": "stream",
     "text": [
      "n\n",
      "a\n",
      "r\n",
      "e\n",
      "s\n",
      "h\n",
      "i\n",
      "t\n"
     ]
    }
   ],
   "source": [
    "for i in s7:\n",
    "    print(i)"
   ]
  },
  {
   "cell_type": "code",
   "execution_count": 108,
   "id": "0dd4a6a8-81ab-487b-9fd3-c4f206021230",
   "metadata": {},
   "outputs": [
    {
     "data": {
      "text/plain": [
       "'abcdefghi'"
      ]
     },
     "execution_count": 108,
     "metadata": {},
     "output_type": "execute_result"
    }
   ],
   "source": [
    "s8 = 'abcdefghi'\n",
    "s8"
   ]
  },
  {
   "cell_type": "code",
   "execution_count": 110,
   "id": "3e5f026b-5326-476f-8815-60a3fe487aa7",
   "metadata": {},
   "outputs": [
    {
     "data": {
      "text/plain": [
       "'abcdefgh'"
      ]
     },
     "execution_count": 110,
     "metadata": {},
     "output_type": "execute_result"
    }
   ],
   "source": [
    "s8[0: 8]"
   ]
  },
  {
   "cell_type": "code",
   "execution_count": 112,
   "id": "c430ca89-e588-4e9f-ab54-1732f7749ae6",
   "metadata": {},
   "outputs": [
    {
     "data": {
      "text/plain": [
       "'bcdef'"
      ]
     },
     "execution_count": 112,
     "metadata": {},
     "output_type": "execute_result"
    }
   ],
   "source": [
    "s8[1:6]"
   ]
  },
  {
   "cell_type": "code",
   "execution_count": 116,
   "id": "57c896a8-cb38-46bb-8e9e-1b7b59f8cd59",
   "metadata": {},
   "outputs": [
    {
     "data": {
      "text/plain": [
       "'bcdef'"
      ]
     },
     "execution_count": 116,
     "metadata": {},
     "output_type": "execute_result"
    }
   ],
   "source": [
    "s8[1:-3]\n"
   ]
  },
  {
   "cell_type": "code",
   "execution_count": 118,
   "id": "69b3237d-48fb-4144-bd3a-2f8549aa1abc",
   "metadata": {},
   "outputs": [
    {
     "data": {
      "text/plain": [
       "'bcde'"
      ]
     },
     "execution_count": 118,
     "metadata": {},
     "output_type": "execute_result"
    }
   ],
   "source": [
    "s8[1:-4]"
   ]
  },
  {
   "cell_type": "code",
   "execution_count": 122,
   "id": "26bea3af-6e93-4c25-a030-3d1d8a05942f",
   "metadata": {},
   "outputs": [],
   "source": [
    "step_indexing = [1,2,3,4,5,6,7,8,9,10]"
   ]
  },
  {
   "cell_type": "code",
   "execution_count": 124,
   "id": "a32a2df7-d1cb-4486-b887-cb4e1a79706b",
   "metadata": {},
   "outputs": [
    {
     "data": {
      "text/plain": [
       "[1, 5, 9]"
      ]
     },
     "execution_count": 124,
     "metadata": {},
     "output_type": "execute_result"
    }
   ],
   "source": [
    "step_indexing[0:10:4]"
   ]
  },
  {
   "cell_type": "code",
   "execution_count": 126,
   "id": "29df71bc-05d7-437a-8d63-2a36f5554bdc",
   "metadata": {},
   "outputs": [
    {
     "data": {
      "text/plain": [
       "[1, 6]"
      ]
     },
     "execution_count": 126,
     "metadata": {},
     "output_type": "execute_result"
    }
   ],
   "source": [
    "step_indexing[0:10:5]"
   ]
  },
  {
   "cell_type": "code",
   "execution_count": 129,
   "id": "d8dc5bd8-0135-45b9-917e-b65fff27cffa",
   "metadata": {},
   "outputs": [
    {
     "data": {
      "text/plain": [
       "[1, 2, 3, 4, 5, 6, 7, 8, 9, 10]"
      ]
     },
     "execution_count": 129,
     "metadata": {},
     "output_type": "execute_result"
    }
   ],
   "source": [
    "step_indexing[:]"
   ]
  },
  {
   "cell_type": "code",
   "execution_count": 131,
   "id": "c28840ee-d138-4325-b681-2fe4b4fed491",
   "metadata": {},
   "outputs": [
    {
     "data": {
      "text/plain": [
       "[20, 30, 40, 10, 10, 10, 10, 10, 10]"
      ]
     },
     "execution_count": 131,
     "metadata": {},
     "output_type": "execute_result"
    }
   ],
   "source": [
    "l"
   ]
  },
  {
   "cell_type": "code",
   "execution_count": 139,
   "id": "e87ac7e2-29a0-4635-b225-9c8368c33ecf",
   "metadata": {},
   "outputs": [],
   "source": [
    "l5 = l.reverse()\n",
    "l5"
   ]
  },
  {
   "cell_type": "code",
   "execution_count": 141,
   "id": "cac1a2a1-165f-4952-b977-7d883a830086",
   "metadata": {},
   "outputs": [
    {
     "data": {
      "text/plain": [
       "[10, 10, 10, 10, 10, 10, 40, 30, 20]"
      ]
     },
     "execution_count": 141,
     "metadata": {},
     "output_type": "execute_result"
    }
   ],
   "source": [
    "l"
   ]
  },
  {
   "cell_type": "code",
   "execution_count": 145,
   "id": "8b9f10db-490e-41a4-b276-37b7f44cdad0",
   "metadata": {},
   "outputs": [
    {
     "name": "stdout",
     "output_type": "stream",
     "text": [
      "None\n"
     ]
    }
   ],
   "source": [
    "print(l5)"
   ]
  },
  {
   "cell_type": "code",
   "execution_count": null,
   "id": "10f8ea69-7f7b-4f87-8d27-dc8ffe1aab8e",
   "metadata": {},
   "outputs": [],
   "source": []
  },
  {
   "cell_type": "code",
   "execution_count": null,
   "id": "aa3a590a-0d98-4a21-9e3d-ae7d2c64274d",
   "metadata": {},
   "outputs": [],
   "source": []
  },
  {
   "cell_type": "code",
   "execution_count": null,
   "id": "aaecccd5-30f6-4533-ac4f-75dae5b07b8e",
   "metadata": {},
   "outputs": [],
   "source": []
  },
  {
   "cell_type": "code",
   "execution_count": null,
   "id": "ed4f16d4-afba-4aee-a816-06e8dbc7f9ab",
   "metadata": {},
   "outputs": [],
   "source": []
  }
 ],
 "metadata": {
  "kernelspec": {
   "display_name": "Python 3 (ipykernel)",
   "language": "python",
   "name": "python3"
  },
  "language_info": {
   "codemirror_mode": {
    "name": "ipython",
    "version": 3
   },
   "file_extension": ".py",
   "mimetype": "text/x-python",
   "name": "python",
   "nbconvert_exporter": "python",
   "pygments_lexer": "ipython3",
   "version": "3.12.7"
  }
 },
 "nbformat": 4,
 "nbformat_minor": 5
}
